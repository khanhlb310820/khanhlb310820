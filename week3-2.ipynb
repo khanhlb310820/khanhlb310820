{
 "cells": [
  {
   "cell_type": "markdown",
   "metadata": {},
   "source": [
    "# Bayesian Learning"
   ]
  },
  {
   "cell_type": "code",
   "execution_count": 1,
   "metadata": {},
   "outputs": [],
   "source": [
    "import numpy as np\n",
    "import matplotlib.pyplot as plt"
   ]
  },
  {
   "cell_type": "code",
   "execution_count": 6,
   "metadata": {},
   "outputs": [],
   "source": [
    "class BayesModel:\n",
    "    def __init__(self, Hs):\n",
    "        self.Hs = Hs\n",
    "    def update(self, d):\n",
    "        # update\n",
    "        s = 0\n",
    "        for h in self.Hs.keys():\n",
    "            self.Hs[h] = self.likelihood(h, d) * self.Hs[h]\n",
    "            s += self.Hs[h]\n",
    "        # normalize\n",
    "        for h in self.Hs.keys():\n",
    "            self.Hs[h] /= s\n",
    "    def likelihood(self, h, d):\n",
    "        if h=='covid':\n",
    "            if d=='pos': return 0.98\n",
    "            if d=='neg': return 0.02\n",
    "        if h=='non-covid':\n",
    "            if d=='pos': return 0.03\n",
    "            if d=='neg': return 0.97\n",
    "    def plot(self):\n",
    "        x = self.Hs.keys()\n",
    "        y = self.Hs.values()\n",
    "        plt.bar(x, y)\n",
    "        plt.ylabel('belief')\n",
    "        plt.show()"
   ]
  },
  {
   "cell_type": "code",
   "execution_count": 9,
   "metadata": {},
   "outputs": [
    {
     "data": {
      "image/png": "[encoded data removed]",
      "text/plain": [
       "<Figure size 432x288 with 1 Axes>"
      ]
     },
     "metadata": {
      "needs_background": "light"
     },
     "output_type": "display_data"
    },
    {
     "data": {
      "image/png": "[encoded data removed]",
      "text/plain": [
       "<Figure size 432x288 with 1 Axes>"
      ]
     },
     "metadata": {
      "needs_background": "light"
     },
     "output_type": "display_data"
    }
   ],
   "source": [
    "# hypothesis set {covid, non-covid}\n",
    "Hs = {'covid': 0.008, 'non-covid': 0.992}\n",
    "CovidTest = BayesModel(Hs)\n",
    "CovidTest.plot()\n",
    "CovidTest.update('pos')\n",
    "CovidTest.update('pos')\n",
    "CovidTest.update('pos')\n",
    "CovidTest.plot()"
   ]
  },
  {
   "cell_type": "code",
   "execution_count": null,
   "metadata": {},
   "outputs": [],
   "source": []
  }
 ],
 "metadata": {
  "interpreter": {
   "hash": "1e27ec44c04bba9c06b7031e21633220ece610de5b16ec76b065ac7789d84e8e"
  },
  "kernelspec": {
   "display_name": "Python 3.8.12 64-bit ('pytorch': conda)",
   "language": "python",
   "name": "python3"
  },
  "language_info": {
   "codemirror_mode": {
    "name": "ipython",
    "version": 3
   },
   "file_extension": ".py",
   "mimetype": "text/x-python",
   "name": "python",
   "nbconvert_exporter": "python",
   "pygments_lexer": "ipython3",
   "version": "3.8.12"
  },
  "orig_nbformat": 4
 },
 "nbformat": 4,
 "nbformat_minor": 2
}
