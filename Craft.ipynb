import numpy as np
import matplotlib.pyplot as plt
import pandas as pd
x = np.linspace(-20,20,1000)
y = x**3
plt.plot(x,y)
plt.show()
